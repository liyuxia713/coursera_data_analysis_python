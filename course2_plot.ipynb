# libs
# 
import matplotlib.pyplot as plt
import seaborn as sns

plt.figure()
plt.plot(3, 2, '-')

# subplot 多个图片
plt.figure()
ax1 = plt.subplot(1, 2, 1)
plt.plot(linear_data, '-o')
# pass sharey=ax1 to ensure the two subplots share the same y axis
ax2 = plt.subplot(1, 2, 2, sharey=ax1)
plt.plot(exponential_data, '-x')

# get current figure, get current axis
# one figure contains multiple axises
plt.gcf().gca()

# 图片大小
plt.figure(figsize=(9,6))
# subplot 图片大小
fig, ((ax1), (ax2)) = plt.subplots(2, 1, figsize=(9,6), sharex=True, sharey=False)

# add a label to the x axis
plt.xlabel('The number of times the child kicked a ball')
# add a label to the y axis
plt.ylabel('The grade of the student')
# add a title
plt.title('Relationship between ball kicking and grades')

# legend位置
plt.legend(loc='best')
# legend 图片的右侧居中位置
plt.legend(box_to_anchor=(1,0.5)) 


# 画函数
linear_data = np.array([1,2,3,4,5,6,7,8])
exponential_data = linear_data**2
plt.figure()
# plot the linear data and the exponential data
plt.plot(linear_data, '-o', exponential_data, '-o')


# 填充
x = plt.gca().xaxis
# rotate the tick labels for the x axis
for item in x.get_ticklabels():
    item.set_rotation(45)

# xlabel角度
x = plt.gca().xaxis
# rotate the tick labels for the x axis
for item in x.get_ticklabels():
    item.set_rotation(45)

# set xlabels with month
m = ['Jan','Feb','Mar','Apr','May','June','July','Aug','Sept','Oct','Nov','Dec']
ticks = [dt.date(2000,m,1) for m in range(1,13)]
ax.set_xticks(ticks)
ax.set_xticklabels(m)

# add vertical lines
for xc in ticks:
    plt.axvline(x=xc, linestyle='--', color='gray', alpha=0.15)



plt.bar()
plt.barh()
plt.scatter()
plt.axvline() #竖线
plt.axhline() #横线
plt.text(-0.5, 1.04 * given_value, 'given_value  = '+str(given_value), fontsize = 10)


df.plot()
df.plot('A','C', kind = 'scatter');
df.plot.scatter('A', 'C')

# 特征展示: 一元：series s
plot.hist(s)
sns.distplot(s) 可以同时画hist+kde

# 特征展示：二元：dataframe df
# 核密度估计 标准化的hist的连续形式 kernel density estimation
df.plot.kde  
# 可以画散点图 各自hist图 以及皮尔卡逊相关系数
sns.jointplot(x='x', y='y', data=df, kind='reg')
# pd.tools.plotting.scatter_matrix(iris);   = sns.pair_plot(iris)
# 如果还有一列Name是有多个值的，比如几个app的； 则用sns.pairplot
sns.pairplot(iris, hue='Name', diag_kind='kde', size=2);
# 散点图
sns.stripplot(x='day', y='total_bill', data=tips)
# 带分布的散点图
sns.swarmplot(x='day', y='total_bill', data=tips)
sns.swarmplot(x='day', y='total_bill', hue='sex', data=tips)
# 小提琴图（箱图+密度图)
sns.swarmplot(x='day', y='total_bill', data=tips)

# 多个特征，径向坐标可视化
radviz