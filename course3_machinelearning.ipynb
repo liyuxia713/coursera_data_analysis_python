{
 "cells": [
  {
   "cell_type": "markdown",
   "metadata": {},
   "source": [
    "# Machine Learning"
   ]
  },
  {
   "cell_type": "markdown",
   "metadata": {},
   "source": [
    "### 分类问题评价"
   ]
  },
  {
   "cell_type": "markdown",
   "metadata": {},
   "source": [
    "### 回归问题评价"
   ]
  },
  {
   "cell_type": "markdown",
   "metadata": {},
   "source": [
    "`Regression evaluation score`: `R-Squared Value`\n",
    "\n",
    "also known as the coefficient of the determination （决定系数）， 是相关系数的平方。\n",
    "\n",
    "* between 0 and 1\n",
    "* a value of 1 corresponds to the best possible performance. A model that makes perfect predictions. \n",
    "* a value of 0 corresponds to a model that makes a constant value prediction that's always just a mean value of all the training target values. "
   ]
  },
  {
   "cell_type": "markdown",
   "metadata": {},
   "source": [
    "### 模型对比"
   ]
  },
  {
   "cell_type": "markdown",
   "metadata": {},
   "source": [
    "#### `KNN Regeression`  `（K临近）`: 用N临近投票或加权平均的算法，简单计数。\n",
    "- 简单，计数即可，不用模型。\n",
    "- 预测效果较好\n",
    "- 不能很好的抽象关系\n",
    "- 不稳定（噪声影响大）\n",
    "\n",
    "#### `Least Squared Regeression` `（最小二乘估计）`： 最小化偏差平方和的方法\n",
    "- 能很好的抽象关系\n",
    "- 效果比KNN相对差\n",
    "- 稳定性比KNN好\n",
    "\n",
    "\n",
    "#### `Ridge Regeression` `岭回归`:  <font color='red'>正则化</font>的最小二乘估计。 \n",
    "- 通过加正则项的方式，放弃无偏差性，损失精度，从而得到未知数据更友好的拟合，对病态数据效果好。\n",
    "- 病态矩阵：有特征相关性较强，也称作特征多重共线性Multicollinearity\n",
    "- 传统最小二乘估计的问题，当X中含相关性较强的特征时，$\\theta$系数会很大，导致x微小的变动，预测值y变化很大，导致不稳定。\n",
    "- x相关性强则$\\theta$大的理论解释：\n",
    "> $$ min ||X\\theta - y ||^2 $$\n",
    ">\n",
    "> $$ \\theta = (X^TX)^{(-1)}X^Ty $$\n",
    "> 当有特征相关性较强时，$|X^TX| 行列式接近0$ ，从而当x有微小变动时，$\\theta$变化大，，导致模型不稳定。\n",
    "- 正则化对样本少，特征多的情况 尤其有效\n",
    "\n",
    "#### `Standardization` `标准化`\n",
    "- 在Redge Regeression上做minmax标准化，效果提升显著，但在原始Least Squared Regeression上没有效果？？\n"
   ]
  },
  {
   "cell_type": "code",
   "execution_count": null,
   "metadata": {},
   "outputs": [],
   "source": [
    "polynomial future transformation: 能捕捉特征之间的非线性关系"
   ]
  }
 ],
 "metadata": {
  "kernelspec": {
   "display_name": "Python 3",
   "language": "python",
   "name": "python3"
  },
  "language_info": {
   "codemirror_mode": {
    "name": "ipython",
    "version": 3
   },
   "file_extension": ".py",
   "mimetype": "text/x-python",
   "name": "python",
   "nbconvert_exporter": "python",
   "pygments_lexer": "ipython3",
   "version": "3.7.0"
  }
 },
 "nbformat": 4,
 "nbformat_minor": 2
}
