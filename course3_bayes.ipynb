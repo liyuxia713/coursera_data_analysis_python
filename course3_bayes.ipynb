{
 "cells": [
  {
   "cell_type": "markdown",
   "metadata": {},
   "source": [
    "# 朴素贝叶斯"
   ]
  },
  {
   "cell_type": "markdown",
   "metadata": {},
   "source": [
    "### 1. 贝叶斯定理\n",
    "> 贝叶斯定理是关于随机事件A和B的条件概率（或边缘概率）的一则定理。其中P(A|B)是在B发生的情况下A发生的可能性。\n",
    "\n",
    "$$ P(A\\mid B) = \\frac{P(B\\mid A) \\, P(A)}{P(B)} $$\n",
    "\n",
    "    - $P(A)：A发生的概率 $\n",
    "\n",
    "    - $P(A\\mid B): 是B发生的情况下A发生的概率 $\n",
    "\n",
    "### 2. 贝叶斯定理应用--吸毒者检测\n",
    "\n",
    "已知：\n",
    "\n",
    ">1. 吸毒检测方法灵敏度和可靠度均为99%，即：\n",
    "    - 吸毒的人，99%呈阳性\n",
    "    - 不吸毒的人，99%呈阴性\n",
    "2. 已知集合中5%的人吸毒 （可以取社会均值等）\n",
    "\n",
    "问\n",
    "\n",
    ">若检测出阳性，有多大概率是真吸毒？\n",
    "\n",
    "答：\n",
    "\n",
    "记D为吸毒，N为不吸毒，+为检测呈阳性\n",
    "- P(D): 吸毒概率0.5%\n",
    "- P(+|D): 吸毒的人检测阳性的概率 99%\n",
    "- P(N): 不吸毒概率 (1-0.5%)\n",
    "- P(+|N): 不吸毒的人检测阳性的概率 (1 - 99%)\n",
    "     \n",
    "$$\n",
    "\\left\\{\n",
    "\\begin{aligned}\n",
    "P(D\\mid +) = \\frac{P(D)P(+\\mid D)}{P(+)} = \\frac{P(D)P(+\\mid D)}{P(D)P(+\\mid D) + P(N)P(+\\mid N)} \\quad\\quad\\quad \\\\\n",
    " = \\frac{0.005\\times 0.99}{(0.005 \\times 0.99  + 0.995 \\times 0.01)} = 0.3322\n",
    "\\end{aligned}\n",
    "\\right.\n",
    "$$\n",
    " \n",
    " > 检测出阳性，吸毒的概率仅有1/3.\n",
    " \n",
    "如果呈阳性的人再检测一次呢？\n",
    " \n",
    "- P(D)为上步得到的0.33， \n",
    "- P(N)为1-0.33\n",
    " $$ P(D\\mid +)= \\frac{0.33 \\times 0.99}{(0.33 \\times 0.99  + 0.67 \\times 0.01)} = 0.98 $$\n",
    " \n",
    " > 检测出阳性的人，二次检测仍然呈阳性，则吸毒概率为0.98%\n",
    " \n",
    "98%误差还是有的，再检测一次如何呢？\n",
    " $$ P(D\\mid +)= \\frac{0.98 \\times 0.99}{(0.98 \\times 0.99  + 0.02 \\times 0.01)} = 0.9998 $$\n",
    " \n",
    " > 两次检测均呈阳性的人，再次检测仍然呈阳性，则吸毒概率0.9998，接近100%了，可靠。"
   ]
  },
  {
   "cell_type": "markdown",
   "metadata": {},
   "source": [
    "### 3. 朴素贝叶斯"
   ]
  },
  {
   "cell_type": "markdown",
   "metadata": {},
   "source": [
    "是基于`贝叶斯定理`和`特征间条件独立`的`分类`算法\n",
    "- 效率高\n",
    "- 损失准确率\n",
    "- 特征特别多，其他模型性能差的时候考虑使用（如文本分类中，每个word是一个特征）\n",
    "\n",
    "sklearn中有三种朴素贝叶斯\n",
    "- GaussianNB: 连续型特征上应用，如房价\n",
    "- 伯努利型，特征都是二元的\n",
    "- 多项式型，二元特征还要考虑权重\n",
    "\n",
    "```\n",
    "from sklearn.naive_bayes import GaussianNB, PolynomialNB, BernouliiNB\n",
    "\n",
    "```"
   ]
  },
  {
   "cell_type": "markdown",
   "metadata": {},
   "source": [
    "### 4. 朴素贝叶斯应用：如果遇到又帅又上进的男生，嫁不嫁？\n",
    "\n",
    "| 观测样本序号 | 帅 ？ | 上进 ？ | 嫁与否 |\n",
    "| --  |  -- | -- | -- | \n",
    "| 1 | 帅 | 上进 | 嫁 |\n",
    "| 2 | 帅 | 上进 | 嫁 |\n",
    "| 3 | 不帅 | 上进 | 嫁 |\n",
    "| 4 | 帅 | 不上进 | 嫁 |\n",
    "| 5 | 帅 | 不上进 | 不嫁 |\n",
    "| 6 | 不帅 | 不上进 | 不嫁 |\n",
    "| 7 | 不帅 | 上进 | 不嫁 |\n",
    "\n",
    "\n",
    "$ P(嫁\\mid 又帅又上进) = \\frac{P(嫁)P(又帅又上进\\mid 嫁)}{P(又帅又上进)} $\n",
    "\n",
    "$= \\frac{P(嫁)P(又帅又上进\\mid 嫁)}{(P(嫁)P(又帅又上进\\mid 嫁) + P(不嫁)P(又帅又上进\\mid 不嫁)} $\n",
    "\n",
    "$= \\frac{P(嫁)P(帅\\mid 嫁)P(上进\\mid 嫁) }{(P(嫁)P(帅\\mid 嫁)P(上进\\mid 嫁) + P(不嫁)P(帅\\mid 不嫁)P(上进\\mid 不嫁)} $\n",
    "\n",
    "- $P(嫁) = 4/7$\n",
    "- $P(帅\\mid 嫁) = 3/4 $\n",
    "- $P(上进\\mid 嫁) = 3/4 $\n",
    "- $P(不嫁) = 3/7$\n",
    "- $P(帅\\mid 不嫁) = 1/3 $\n",
    "- $P(上进\\mid 不嫁) = 1/3 $\n",
    "\n",
    "$$ P(嫁\\mid 又帅又上进) = \\frac{\\frac{4}{7}\\times \\frac{3}{4} \\times \\frac{3}{4}}{\\frac{4}{7}\\times \\frac{3}{4} \\times \\frac{3}{4}+\\frac{3}{7}\\times \\frac{1}{3} \\times \\frac{1}{3}} = 0.87 $$"
   ]
  },
  {
   "cell_type": "code",
   "execution_count": 3,
   "metadata": {},
   "outputs": [
    {
     "data": {
      "text/plain": [
       "0.8709677419354839"
      ]
     },
     "execution_count": 3,
     "metadata": {},
     "output_type": "execute_result"
    }
   ],
   "source": [
    "a = 4.0/7\n",
    "b = 3.0/4\n",
    "c = 3.0/4\n",
    "d = 1.0/3\n",
    "f = 1.0/3\n",
    "(a*b*c)/(a*b*c+(1-a)*d*f)"
   ]
  },
  {
   "cell_type": "markdown",
   "metadata": {},
   "source": [
    "### 参考：\n",
    "https://blog.csdn.net/fisherming/article/details/79509025"
   ]
  },
  {
   "cell_type": "code",
   "execution_count": null,
   "metadata": {},
   "outputs": [],
   "source": []
  }
 ],
 "metadata": {
  "kernelspec": {
   "display_name": "Python 3",
   "language": "python",
   "name": "python3"
  },
  "language_info": {
   "codemirror_mode": {
    "name": "ipython",
    "version": 3
   },
   "file_extension": ".py",
   "mimetype": "text/x-python",
   "name": "python",
   "nbconvert_exporter": "python",
   "pygments_lexer": "ipython3",
   "version": "3.7.0"
  }
 },
 "nbformat": 4,
 "nbformat_minor": 2
}
